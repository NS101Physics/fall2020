{
 "cells": [
  {
   "cell_type": "markdown",
   "metadata": {},
   "source": [
    "## Lab 2: Vectors, Vector Operations and Visualization"
   ]
  },
  {
   "cell_type": "markdown",
   "metadata": {},
   "source": [
    "***\n",
    "\n",
    "In this lab session we will learn to:\n",
    "\n",
    "* create vector in n-dimensions\n",
    "* apply vector operations (addition, multiplications)\n",
    "* plotting and visualization (vpython)"
   ]
  },
  {
   "cell_type": "markdown",
   "metadata": {},
   "source": [
    "In Physics we consider any vector as an object containing information regarding a system in its defined parameters (such as time). Representing a vector in space will contain information associated with the allowed axis of the coordinate space, in our commonly known 3D space a vector will contain 3 numbers (scalars) representing a whole vector. Usually it is written in vertical form,\n",
    "$\\begin{pmatrix}\n",
    "  a \\\\ \n",
    "  c \\\\\n",
    "  b\n",
    "\\end{pmatrix}$ \n",
    "\n",
    "The objects defined by a vector can be real objects like position of a car, or a plane, or can be a property associated with that object at that point (eg. momentum). In essence, the vectors make our lives easy.\n",
    "\n",
    "\n",
    "However, here we are using computer to simulate physics and in computer languages such information can be stored in lists hence a list will represent values associated with all the parameters of a vector. Now, to get your hands dirty with the vectors lets create a list of two parameters, 2D vector, called $v$ and give it some values. "
   ]
  },
  {
   "cell_type": "code",
   "execution_count": null,
   "metadata": {},
   "outputs": [],
   "source": [
    "v = [23,15]\n",
    "v"
   ]
  },
  {
   "cell_type": "markdown",
   "metadata": {},
   "source": [
    "To gain a little physics feeling, we can associate the first component with x-axis and second with y-axis. So we say $v_x = 23$ and $v_y = 15.$ (But remember this is just a list and has nothing to do with real vectors, and associating components with list values is entirely upto us. we can say the first element is v_y and second is v_x, but its a good things to keep familiar notation with all other users.)"
   ]
  },
  {
   "cell_type": "code",
   "execution_count": null,
   "metadata": {},
   "outputs": [],
   "source": [
    "v_x = v[0] ; v_y = v[1]"
   ]
  },
  {
   "cell_type": "markdown",
   "metadata": {},
   "source": [
    "If we want to generalize vector creation to n-dimensions then we should use `array([])` function from numpy library. This will allow us to use operations of numpy on these arrays (vectors)."
   ]
  },
  {
   "cell_type": "code",
   "execution_count": null,
   "metadata": {},
   "outputs": [],
   "source": [
    "import numpy as np\n",
    "\n",
    "r = np.array([6, 8.5])\n",
    "s = np.array([2.2, 4])\n",
    "print('r = ',r, 'm')\n",
    "print('s = ',s, 'm')"
   ]
  },
  {
   "cell_type": "markdown",
   "metadata": {},
   "source": [
    "**Exercise 2a**\n",
    "\n",
    "Create a function `ran_vector(n)` that inputs dimension length n and generates a vector with random elements. Generate two new 3D vectors $u$ and $w$ using this function. "
   ]
  },
  {
   "cell_type": "code",
   "execution_count": null,
   "metadata": {},
   "outputs": [],
   "source": [
    "# your answer here\n",
    "\n",
    "### convert list into np.array instead\n",
    "\n",
    "# here's a new function you should use here\n",
    "# np.random.rand(_length_here_)\n",
    "# instead of np.array(_list_)\n",
    "\n"
   ]
  },
  {
   "cell_type": "markdown",
   "metadata": {},
   "source": [
    "Now that you have "
   ]
  },
  {
   "cell_type": "markdown",
   "metadata": {},
   "source": [
    "### Vector Operations\n",
    "\n",
    "so now lets explore some operation that we can use with these numpy arrays."
   ]
  },
  {
   "cell_type": "code",
   "execution_count": null,
   "metadata": {},
   "outputs": [],
   "source": [
    "# Addition\n",
    "\n",
    "a = u + w\n",
    "print('u + w = ',a)"
   ]
  },
  {
   "cell_type": "markdown",
   "metadata": {},
   "source": [
    "since $u$ and $w$ are already defined we can directly print the operation outputs instead of assigning it to a variable."
   ]
  },
  {
   "cell_type": "code",
   "execution_count": null,
   "metadata": {},
   "outputs": [],
   "source": [
    "# Subtraction\n",
    "\n",
    "print('u - w = ',u-w)\n",
    "print('w - u = ',w-u)"
   ]
  },
  {
   "cell_type": "markdown",
   "metadata": {},
   "source": [
    "As with addition, the new vector has the same length as the parent vectors and each element of the new vector is calculated as the subtraction of the elements at the same indices."
   ]
  },
  {
   "cell_type": "code",
   "execution_count": null,
   "metadata": {},
   "outputs": [],
   "source": [
    "# Scalar multiplication (scaling)\n",
    "\n",
    "print(randrange(5)*u)\n",
    "print(4*u)\n",
    "print(w*0.33)"
   ]
  },
  {
   "cell_type": "code",
   "execution_count": null,
   "metadata": {},
   "outputs": [],
   "source": [
    "# Vector Multiplication\n",
    "\n",
    "# Dot Product\n",
    "\n",
    "uw = u.dot(w)\n",
    "print('u.w = ', uw, 'm')"
   ]
  },
  {
   "cell_type": "markdown",
   "metadata": {},
   "source": [
    "Now, funny enough, the dot product we just saw in the above cell is the actual dot product that we need i.e. it is the result of summing element wise products from two vectors $( \\Sigma u_i w_i)$. However, if you were to run `u*w` the result **would not be a scalar**, rather it will be a vector of elements wise products which is not what we desire here. Check this for yourself by running `u*w` in new cell."
   ]
  },
  {
   "cell_type": "code",
   "execution_count": null,
   "metadata": {
    "scrolled": true
   },
   "outputs": [],
   "source": []
  },
  {
   "cell_type": "markdown",
   "metadata": {},
   "source": [
    "Another funny operation that we do not need is vector division. Try and run `u/w` in next cell."
   ]
  },
  {
   "cell_type": "code",
   "execution_count": null,
   "metadata": {},
   "outputs": [],
   "source": []
  },
  {
   "cell_type": "markdown",
   "metadata": {},
   "source": [
    "These two operations `u*w` and `u/w` are just element wise operations useful in other areas but not here, in physics, with vector."
   ]
  },
  {
   "cell_type": "code",
   "execution_count": null,
   "metadata": {},
   "outputs": [],
   "source": [
    "# Vector Multiplication\n",
    "\n",
    "# Cross Product\n",
    "\n",
    "uxw = np.cross(u,w)\n",
    "print('u x w = ', uxw)\n"
   ]
  },
  {
   "cell_type": "markdown",
   "metadata": {},
   "source": [
    "**Exercise 2b**\n",
    "\n",
    "Use your ready made function `ran_vector(n)` to generate three new arbitrary 3D vectors ($u, v, w$) and prove the following vector identities.\n",
    "\n",
    "* $k(u + w) = ku + kw$     $\\qquad$  # k is a scalar\n",
    "\n",
    "\n",
    "* ${u \\cdot (v \\times w )=v \\cdot (w \\times u )= w \\cdot (u \\times v )}$\n",
    "\n",
    "\n",
    "* ${(u \\cdot (v \\times w )) u =(u \\times v )\\times (u \\times w )}$\n",
    "\n",
    "\n",
    "* ${u \\times (v \\times w )=(u \\cdot w ) v -( u \\cdot v ) w }$\n"
   ]
  },
  {
   "cell_type": "code",
   "execution_count": null,
   "metadata": {},
   "outputs": [],
   "source": [
    "# your answer here\n",
    "\n"
   ]
  },
  {
   "cell_type": "code",
   "execution_count": null,
   "metadata": {},
   "outputs": [],
   "source": [
    "# your answer here\n",
    "\n"
   ]
  },
  {
   "cell_type": "code",
   "execution_count": null,
   "metadata": {},
   "outputs": [],
   "source": [
    "# your answer here\n",
    "\n"
   ]
  },
  {
   "cell_type": "code",
   "execution_count": null,
   "metadata": {},
   "outputs": [],
   "source": [
    "# your answer here\n",
    "\n"
   ]
  },
  {
   "cell_type": "markdown",
   "metadata": {},
   "source": [
    "### Vectors in VPython\n",
    "\n",
    "VPython tends to take this vector business pretty easy though. Only thing you can not afford to forget is mentioning that the tuple is a vector. Here's how you define a vector in for vpython"
   ]
  },
  {
   "cell_type": "code",
   "execution_count": null,
   "metadata": {},
   "outputs": [],
   "source": [
    "from vpython import *\n",
    "\n",
    "A = vector(1,2,1)\n",
    "B = vector(3,4,1)\n",
    "A"
   ]
  },
  {
   "cell_type": "markdown",
   "metadata": {},
   "source": [
    "and here are other common operations you can play around with..."
   ]
  },
  {
   "cell_type": "code",
   "execution_count": null,
   "metadata": {},
   "outputs": [],
   "source": [
    "# y component of A\n",
    "A.y"
   ]
  },
  {
   "cell_type": "code",
   "execution_count": null,
   "metadata": {},
   "outputs": [],
   "source": [
    "# magnitude of A\n",
    "mag(A)"
   ]
  },
  {
   "cell_type": "code",
   "execution_count": null,
   "metadata": {},
   "outputs": [],
   "source": [
    "# magnitude squared of A\n",
    "mag2(A)"
   ]
  },
  {
   "cell_type": "code",
   "execution_count": null,
   "metadata": {},
   "outputs": [],
   "source": [
    "# norm of A, the directional vector for A\n",
    "norm(A)"
   ]
  },
  {
   "cell_type": "code",
   "execution_count": null,
   "metadata": {},
   "outputs": [],
   "source": [
    "# dot product\n",
    "dot(A,B)"
   ]
  },
  {
   "cell_type": "code",
   "execution_count": null,
   "metadata": {},
   "outputs": [],
   "source": [
    "# cross product\n",
    "cross(A,B)"
   ]
  },
  {
   "cell_type": "code",
   "execution_count": null,
   "metadata": {},
   "outputs": [],
   "source": [
    "# angle between A and B, in radians\n",
    "diff_angle(A,B)"
   ]
  },
  {
   "cell_type": "markdown",
   "metadata": {},
   "source": [
    "### Visualization in VPython\n",
    "\n",
    "So if you've completed all the exercises so far you can call yourself vector master. No... wait, you still need the visualization. Let us use VPython for this purpose (which you presumably have already installed in your computer). Vpython has its own library which you can browse here \"https://www.vpython.org/contents/docs/cylinder.html\". \n",
    "\n",
    "A picture is worth a thousand words, so here's a little code\n"
   ]
  },
  {
   "cell_type": "code",
   "execution_count": null,
   "metadata": {},
   "outputs": [],
   "source": [
    "from vpython import *\n",
    "scene = canvas()\n",
    "\n",
    "sphere()"
   ]
  },
  {
   "cell_type": "markdown",
   "metadata": {},
   "source": [
    "This was an example from many of the 3D objects you can draw and interact with, yes you can interact, simply hold right click on the object and rotate in 3D. Zoom in and out by mouse wheel. \n",
    "\n",
    "Other 3D shapes include `box`, `cylinder`, `arrow` and other you can find in this page \"https://www.vpython.org/contents/docs/index.html\" but we won't need many of those.\n",
    "\n",
    "**Note** use the code `scene=canvas()` in every cell to create new scene."
   ]
  },
  {
   "cell_type": "markdown",
   "metadata": {},
   "source": [
    "#### How VPython sees things\n",
    "\n",
    "(Not talking about the snake here) Because vpython is all about visualization, vpython uses default 3D cartesian coordinate space and plans everything accordingly. The sphere created above is by-default placed at center (origin). Just like in 3D space you can access every point in this simulated space using the vectors.\n",
    "\n",
    "#### Object parameters\n",
    "\n",
    "All the objects have some parameters to help user define these objects. If you don't mention them the python will define some default values for you, like in the above example. But this time we are going to change the position, radius and color of this object."
   ]
  },
  {
   "cell_type": "code",
   "execution_count": null,
   "metadata": {},
   "outputs": [],
   "source": [
    "scene = canvas()\n",
    "\n",
    "sphere(pos=vector(1,0,0), radius=0.3, color=color.blue)"
   ]
  },
  {
   "cell_type": "markdown",
   "metadata": {},
   "source": [
    "The first parameter `pos` is the position, it requires a `vector` object to be defined. The `vector` objects further require three parameter (x,y,z), this order is fixed. `radius` is defined by a scalar in the default units as that coordinate axis. To pick color we select blue from the vpython color library, this is the syntax to call any function of object from any library *`library.thing`*\n",
    "\n",
    "To make things more formal, lets place a line on x-axis"
   ]
  },
  {
   "cell_type": "code",
   "execution_count": null,
   "metadata": {},
   "outputs": [],
   "source": [
    "scene = canvas()\n",
    "\n",
    "ball = sphere(pos=vector(1,0,0), radius=0.3, color=color.blue)\n",
    "x_ax = curve(pos=[(-5,0,0),(5,0,0)], color=color.red)"
   ]
  },
  {
   "cell_type": "markdown",
   "metadata": {},
   "source": [
    "We just used another object called `curve` 'https://www.vpython.org/contents/docs/curve.html' from vpython. This requires position as set of points that through which a straight line can pass. \n",
    "\n",
    "but why stop there..."
   ]
  },
  {
   "cell_type": "code",
   "execution_count": null,
   "metadata": {},
   "outputs": [],
   "source": [
    "scene = canvas()\n",
    "\n",
    "ball = sphere(pos=vector(1,0,0), radius=0.3, color=color.cyan)\n",
    "\n",
    "x_ax = curve(pos=[(-5,0,0),(5,0,0)], color=color.red)\n",
    "y_ax = curve(pos=[(0,-5,0),(0,5,0)], color=color.blue)\n",
    "z_ax = curve(pos=[(0,0,-5),(0,0,5)], color=color.green)"
   ]
  },
  {
   "cell_type": "markdown",
   "metadata": {},
   "source": [
    "go ahead rotate the above scene and aspire.\n",
    "\n",
    "One of the important objects we will use is arrow. Let's draw an arrow from origin to the position of the object (now called ball)."
   ]
  },
  {
   "cell_type": "code",
   "execution_count": null,
   "metadata": {},
   "outputs": [],
   "source": [
    "scene = canvas()\n",
    "\n",
    "ball = sphere(pos=vector(1,0,0), radius=0.3, color=color.cyan)\n",
    "\n",
    "x_ax = curve(pos=[(-5,0,0),(5,0,0)], color=color.red)\n",
    "y_ax = curve(pos=[(0,-5,0),(0,5,0)], color=color.blue)\n",
    "z_ax = curve(pos=[(0,0,-5),(0,0,5)], color=color.green)\n",
    "\n",
    "pointer = arrow(pos=vector(0,0,0), axis=ball.pos, color=color.white)"
   ]
  },
  {
   "cell_type": "markdown",
   "metadata": {},
   "source": [
    "Note that the arrow is pointing to the center of the object."
   ]
  },
  {
   "cell_type": "markdown",
   "metadata": {},
   "source": [
    "**Exercise 2c**\n",
    "\n",
    "In the above scene, add another `arrow` object 'pointer1' positioned at the center of the ball and pointing in any arbitrary direction you like in yz-plane. \n",
    "\n",
    "\n",
    "\n",
    "*(also try to use `shaftwidth`, `headlength` and `headwidth` to adjust the shape of the arrow. read the vpython object library for hints)*"
   ]
  },
  {
   "cell_type": "code",
   "execution_count": null,
   "metadata": {},
   "outputs": [],
   "source": [
    "# your answer here\n",
    "\n"
   ]
  },
  {
   "cell_type": "markdown",
   "metadata": {},
   "source": [
    "So far you have been drawing arrows using vector components but in many phsics problems we encounter polar coordinates ($r$,$\\theta$). \n",
    "\n",
    "$ r_x = |r| cos ( \\theta )$\n",
    "\n",
    "$ r_y = |r| sin ( \\theta )$\n",
    "\n",
    "To use this method we need two input parameter $r$(magnitude of the vector) and $\\theta$ (angle) to construct the components $r_x$ and $r_y$. "
   ]
  },
  {
   "cell_type": "code",
   "execution_count": null,
   "metadata": {},
   "outputs": [],
   "source": [
    "scene = canvas()\n",
    "\n",
    "ball = sphere(pos=vector(1,0,0), radius=0.3, color=color.cyan)\n",
    "\n",
    "x_ax = curve(pos=[(-5,0,0),(5,0,0)], color=color.red)\n",
    "y_ax = curve(pos=[(0,-5,0),(0,5,0)], color=color.blue)\n",
    "z_ax = curve(pos=[(0,0,-5),(0,0,5)], color=color.green)\n",
    "\n",
    "pointer = arrow(pos=vector(0,0,0), axis=ball.pos, color=color.white)\n",
    "\n",
    "#########################################################\n",
    "# enter any value of magnitude and angle\n",
    "#########################################################\n",
    "v_mag = \n",
    "v_ang = \n",
    "\n",
    "v_x = v_mag*cos(v_ang)\n",
    "v_y = v_mag*sin(v_ang)\n",
    "\n",
    "pointer2 = arrow(pos=ball.pos, axis=vector(v_x,v_y,0))\n",
    "#########################################################"
   ]
  },
  {
   "cell_type": "markdown",
   "metadata": {},
   "source": [
    "Notice how we avoided writing vector for the pos(ition) for pointer2. Here, `cos` and `sin` functions are automatically imported from vpython. If you were paying attention you should know by now that the angle is put in radians here so make sure you remember that when you write your own codes. \n",
    "\n",
    "Lets make all the vectors around the ball with angle pi/4 in between, why... just for fun, "
   ]
  },
  {
   "cell_type": "code",
   "execution_count": null,
   "metadata": {},
   "outputs": [],
   "source": [
    "from vpython import *\n",
    "scene = canvas()\n",
    "\n",
    "ball = sphere(pos=vector(-2,3.5,0), radius=0.3, color=color.cyan)\n",
    "\n",
    "x_ax = curve(pos=[(-5,0,0),(5,0,0)], color=color.red)\n",
    "y_ax = curve(pos=[(0,-5,0),(0,5,0)], color=color.blue)\n",
    "z_ax = curve(pos=[(0,0,-5),(0,0,5)], color=color.green)\n",
    "\n",
    "pointer = arrow(pos=vector(0,0,0), axis=ball.pos, color=color.white, opacity=0.2)\n",
    "\n",
    "v_mag = 2\n",
    "v_ang = 0\n",
    "\n",
    "v_x = v_mag*cos(v_ang)\n",
    "v_y = v_mag*sin(v_ang)\n",
    "\n",
    "for i in range(8):\n",
    "    v_x = v_mag*cos(v_ang)\n",
    "    v_y = v_mag*sin(v_ang)\n",
    "    pointer2 = arrow(pos=ball.pos, axis=vector(v_x,v_y,0))\n",
    "    v_ang = v_ang + (pi/4)"
   ]
  },
  {
   "cell_type": "markdown",
   "metadata": {},
   "source": [
    "let us make sure we understand what went in this last scene.\n",
    "\n",
    "* The size of the `pointer` changed from before because we did not specify any size parameter for it, however pointer2 retains its size.\n",
    "\n",
    "* We changed the axis of `pointer` by changing `pos`ition of the ball only.\n",
    "\n",
    "* Position of the angular vector arrows is connected with the `pos`ition of the ball.\n",
    "\n",
    "* Angles are given in radians using `pi` function.\n",
    "\n",
    "* Sometimes these arrows obstruct our view, `opacity` will allow you to keep things in check. It's values can vary between 0 to 1"
   ]
  },
  {
   "cell_type": "markdown",
   "metadata": {},
   "source": [
    "Next time we'll move to animation. For now here is a little much more complex scene people have created in vpython\n",
    "'https://www.google.com/imgres?imgurl=https%3A%2F%2Fcdn.instructables.com%2FORIG%2FF47%2FF6JV%2FIF9UA3DO%2FF47F6JVIF9UA3DO.jpg%3Fauto%3Dwebp&imgrefurl=https%3A%2F%2Fwww.instructables.com%2Fid%2FvPython-Spider-Robot-simulator%2F&tbnid=SyYJHSVZ_wuZaM&vet=10CAUQxiAoA2oXChMI4Lvw0ujO6wIVAAAAAB0AAAAAEA0..i&docid=ZQlNAi6i9NzzdM&w=860&h=716&itg=1&q=vpython%20static%20object%20scene&ved=0CAUQxiAoA2oXChMI4Lvw0ujO6wIVAAAAAB0AAAAAEA0'"
   ]
  },
  {
   "cell_type": "markdown",
   "metadata": {},
   "source": []
  }
 ],
 "metadata": {
  "kernelspec": {
   "display_name": "Python 3",
   "language": "python",
   "name": "python3"
  },
  "language_info": {
   "codemirror_mode": {
    "name": "ipython",
    "version": 3
   },
   "file_extension": ".py",
   "mimetype": "text/x-python",
   "name": "python",
   "nbconvert_exporter": "python",
   "pygments_lexer": "ipython3",
   "version": "3.8.3"
  }
 },
 "nbformat": 4,
 "nbformat_minor": 4
}
