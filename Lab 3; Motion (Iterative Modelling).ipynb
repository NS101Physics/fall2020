{
 "cells": [
  {
   "cell_type": "markdown",
   "metadata": {},
   "source": [
    "# Motion (Iterative modelling)\n",
    "\n",
    "***\n",
    "\n",
    "To begin animating objects we first remind ourselves how objects move. By definition, the motion requires change of position with respect to time. In computational sense we view the position as vector and hence a motion would mean changing this position vector gradually. In reality we see things move smoothly and continously however, in every understanding of our's there must be small discrete steps that make up a smooth continous motion. \n",
    "\n",
    "$x_{new} = x_{old} + v \\Delta t$\n",
    "\n",
    "Similarly, the computer can only process specified values at a time and therefore repeatetion of position vector in such manner (iteration) is what results in motion. \n",
    "\n"
   ]
  },
  {
   "cell_type": "markdown",
   "metadata": {},
   "source": [
    "Let's first create a scene with an object "
   ]
  },
  {
   "cell_type": "code",
   "execution_count": null,
   "metadata": {},
   "outputs": [],
   "source": [
    "from vpython import *\n",
    "scene = canvas()\n",
    "\n",
    "x_ax = curve(pos=[(-15,0,0),(15,0,0)], color=color.red)\n",
    "y_ax = curve(pos=[(0,-15,0),(0,15,0)], color=color.blue)\n",
    "z_ax = curve(pos=[(0,0,-15),(0,0,15)], color=color.green)\n",
    "\n",
    "ball = sphere(pos=vector(1,1,1), radius=0.3, color=color.cyan)"
   ]
  },
  {
   "cell_type": "markdown",
   "metadata": {},
   "source": [
    "Now lets say that the object moved 3 units towards positive $x$-axis in $1$ $sec$. For this purpose if we iterate the problem by hand using time step of $0.2$ $sec$, in one dimension, it would look something like this;\n",
    "\n",
    "$x_{new} = x_{old} + v \\Delta t$\n",
    "\n",
    "$x_{new} = 1 + 3 \\frac{units}{sec} * 0.2 = 1.6$\n",
    "\n",
    "$x_{new} = 1.6 + 3 \\frac{units}{sec} * 0.2 = 2.2$\n",
    "\n",
    "$x_{new} = 2.2 + 3 \\frac{units}{sec} * 0.2 = 2.8$\n",
    "\n",
    "$x_{new} = 2.8 + 3 \\frac{units}{sec} * 0.2 = 3.2$\n",
    "\n",
    "**Exercise 3a**\n",
    "\n",
    "Check for yourself if the above iteration outputs correspond to the same velocity we started with i.e. $v=+3 \\frac{units}{sec}$."
   ]
  },
  {
   "cell_type": "markdown",
   "metadata": {},
   "source": [
    "As learnt earlier, computation will provide faster way of running those iteration especially for large number of times in smaller time steps (like $0.001$)."
   ]
  },
  {
   "cell_type": "code",
   "execution_count": null,
   "metadata": {},
   "outputs": [],
   "source": [
    "from vpython import *\n",
    "scene = canvas()\n",
    "\n",
    "x_ax = curve(pos=[(-15,0,0),(15,0,0)], color=color.red)\n",
    "y_ax = curve(pos=[(0,-15,0),(0,15,0)], color=color.blue)\n",
    "z_ax = curve(pos=[(0,0,-15),(0,0,15)], color=color.green)\n",
    "\n",
    "ball = sphere(pos=vector(1,1,1), radius=0.3, color=color.cyan)\n",
    "\n",
    "# we use the velocity\n",
    "v = vector(3,0,0)\n",
    "# we define time step for now\n",
    "dt = 0.2\n",
    "\n",
    "while True:\n",
    "    rate(2)\n",
    "    ball.pos = ball.pos + v*dt"
   ]
  },
  {
   "cell_type": "markdown",
   "metadata": {},
   "source": [
    "Let's first control the duration of animation. With `True` the animation runs endlessly in `while` loop but we can set a value for it to stop at time or our liking. Also, we'll be adding a `print` command to print position of the ball at each step."
   ]
  },
  {
   "cell_type": "code",
   "execution_count": null,
   "metadata": {
    "scrolled": false
   },
   "outputs": [],
   "source": [
    "from vpython import *\n",
    "scene = canvas()\n",
    "\n",
    "x_ax = curve(pos=[(-15,0,0),(15,0,0)], color=color.red)\n",
    "y_ax = curve(pos=[(0,-15,0),(0,15,0)], color=color.blue)\n",
    "z_ax = curve(pos=[(0,0,-15),(0,0,15)], color=color.green)\n",
    "\n",
    "ball = sphere(pos=vector(1,1,1), radius=0.3, color=color.cyan)\n",
    "\n",
    "# we use the velocity\n",
    "v = vector(3,0,0)\n",
    "# we define time step for now\n",
    "dt = 0.2\n",
    "t = 0\n",
    "\n",
    "while t<2:\n",
    "    rate(2)\n",
    "    ball.pos = ball.pos + v*dt\n",
    "    t = t + dt\n",
    "    print(ball.pos)"
   ]
  },
  {
   "cell_type": "markdown",
   "metadata": {},
   "source": [
    "One thing you could not have missed noting is the `rate()` this is an option in `while` loop that allows us to control how fast the animation/simulation should proceed, you should keep it to some usual values. **But** keep in mind it has *nothing to do with dt*. The `dt` is what determines how far next step in motion will be. \n",
    "\n",
    "**Exercise 3b**\n",
    "\n",
    "Reduce the time step *dt* and observe where the motion appears approximately smooth."
   ]
  },
  {
   "cell_type": "code",
   "execution_count": null,
   "metadata": {
    "scrolled": false
   },
   "outputs": [],
   "source": [
    "# your answer here\n",
    "\n"
   ]
  },
  {
   "cell_type": "markdown",
   "metadata": {},
   "source": [
    "Please observe that the motion is still the same only the step size has reduced.\n",
    "\n",
    "**Exercise 3c**\n",
    "\n",
    "Select a velocity vector in arbitrary direction and observe the motion. \n",
    "\n",
    "*to help trace the motion use make_trail=True in ball parameter*"
   ]
  },
  {
   "cell_type": "code",
   "execution_count": null,
   "metadata": {},
   "outputs": [],
   "source": [
    "# your answer here\n",
    "\n"
   ]
  },
  {
   "cell_type": "markdown",
   "metadata": {},
   "source": [
    "We can play around with the position arrows too remember..."
   ]
  },
  {
   "cell_type": "code",
   "execution_count": null,
   "metadata": {},
   "outputs": [],
   "source": [
    "from vpython import *\n",
    "scene = canvas()\n",
    "\n",
    "x_ax = curve(pos=[(-15,0,0),(15,0,0)], color=color.red)\n",
    "y_ax = curve(pos=[(0,-15,0),(0,15,0)], color=color.blue)\n",
    "z_ax = curve(pos=[(0,0,-15),(0,0,15)], color=color.green)\n",
    "\n",
    "ball = sphere(pos=vector(1,1,1), radius=0.3, color=color.cyan, make_trail=True)\n",
    "\n",
    "pointer = arrow(pos=vector(0,0,0), axis=ball.pos, shaftwidth=0.2, opacity=0.2)\n",
    "\n",
    "# we use the velocity\n",
    "v = vector(-3,2,1)\n",
    "# we define time step for now\n",
    "dt = 0.02\n",
    "t = 0\n",
    "\n",
    "while t<2:\n",
    "    rate(2)\n",
    "    ball.pos = ball.pos + v*dt\n",
    "    pointer.axis = ball.pos\n",
    "    t = t + dt\n",
    "    #print(ball.pos)"
   ]
  },
  {
   "cell_type": "markdown",
   "metadata": {},
   "source": [
    "**Exercise 3d**\n",
    "\n",
    "Find the distance between the origin and the final position of the *ball* in above animation."
   ]
  },
  {
   "cell_type": "code",
   "execution_count": null,
   "metadata": {},
   "outputs": [],
   "source": [
    "# your answer here\n",
    "\n"
   ]
  },
  {
   "cell_type": "markdown",
   "metadata": {},
   "source": [
    "### Acceleration\n",
    "\n",
    "So far we have been dealing with constant motion, and constant motion is pretty boring. If we add acceleration to our simulation we would then need to update the velocity vector as well. Therefore, the position will change due to velocity and velocity will change due to acceleration. We'll use the previous animation with addition to acceleration and why not make it a little familiar acceleration: the acceleration due to gravity... <0,-9.8,0>."
   ]
  },
  {
   "cell_type": "code",
   "execution_count": null,
   "metadata": {},
   "outputs": [],
   "source": [
    "from vpython import *\n",
    "scene = canvas()\n",
    "\n",
    "x_ax = curve(pos=[(-15,0,0),(15,0,0)], color=color.red)\n",
    "y_ax = curve(pos=[(0,-15,0),(0,15,0)], color=color.blue)\n",
    "z_ax = curve(pos=[(0,0,-15),(0,0,15)], color=color.green)\n",
    "\n",
    "ball = sphere(pos=vector(1,1,1), radius=0.3, color=color.cyan, make_trail=True)\n",
    "pointer = arrow(pos=vector(0,0,0), axis=ball.pos, shaftwidth=0.2, opacity=0.2)\n",
    "\n",
    "v = vector(-3,2,1)\n",
    "\n",
    "# we use the acceleration\n",
    "a = vector(0,-9.8,0)\n",
    "\n",
    "# we define time step for now\n",
    "dt = 0.002\n",
    "t = 0\n",
    "\n",
    "while t<2:\n",
    "    rate(20)\n",
    "    ball.pos = ball.pos + v*dt\n",
    "    v = v + a*dt\n",
    "    pointer.axis = ball.pos\n",
    "    t = t + dt\n",
    "    #print(ball.pos)\n",
    "    \n",
    "#print(mag(pointer.axis))"
   ]
  },
  {
   "cell_type": "markdown",
   "metadata": {},
   "source": [
    "voila! we now have projectile motion."
   ]
  },
  {
   "cell_type": "markdown",
   "metadata": {},
   "source": [
    "**Exercise 3e**\n",
    "\n",
    "If the projectile is launched such that its $v_x = 14$ and $v_y = 14$ use the simulation to determine the horizontal displacement that it travels before striking the ground."
   ]
  },
  {
   "cell_type": "code",
   "execution_count": null,
   "metadata": {
    "scrolled": true
   },
   "outputs": [],
   "source": [
    "# your answer here\n",
    "\n"
   ]
  },
  {
   "cell_type": "code",
   "execution_count": null,
   "metadata": {},
   "outputs": [],
   "source": []
  },
  {
   "cell_type": "code",
   "execution_count": null,
   "metadata": {},
   "outputs": [],
   "source": []
  },
  {
   "cell_type": "code",
   "execution_count": null,
   "metadata": {},
   "outputs": [],
   "source": []
  }
 ],
 "metadata": {
  "kernelspec": {
   "display_name": "Python 3",
   "language": "python",
   "name": "python3"
  },
  "language_info": {
   "codemirror_mode": {
    "name": "ipython",
    "version": 3
   },
   "file_extension": ".py",
   "mimetype": "text/x-python",
   "name": "python",
   "nbconvert_exporter": "python",
   "pygments_lexer": "ipython3",
   "version": "3.8.3"
  }
 },
 "nbformat": 4,
 "nbformat_minor": 4
}
